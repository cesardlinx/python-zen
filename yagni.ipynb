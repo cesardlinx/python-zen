{
 "cells": [
  {
   "cell_type": "markdown",
   "metadata": {},
   "source": [
    "## Now is better than never."
   ]
  },
  {
   "cell_type": "markdown",
   "metadata": {},
   "source": [
    "Don't spend too much time planning and pre-optimising; get something down that does the job and iterate on it (or: fix that issue now rather than putting it off)."
   ]
  },
  {
   "cell_type": "markdown",
   "metadata": {},
   "source": [
    "## Although never is often better than *right* now."
   ]
  },
  {
   "cell_type": "markdown",
   "metadata": {},
   "source": [
    "YAGNI (You ain't gonna need it)\n",
    "But do put some thought into it, so you don't head off down a path that later means there's no graceful way back."
   ]
  }
 ],
 "metadata": {
  "kernelspec": {
   "display_name": "Python 3",
   "language": "python",
   "name": "python3"
  },
  "language_info": {
   "codemirror_mode": {
    "name": "ipython",
    "version": 3
   },
   "file_extension": ".py",
   "mimetype": "text/x-python",
   "name": "python",
   "nbconvert_exporter": "python",
   "pygments_lexer": "ipython3",
   "version": "3.7.7"
  }
 },
 "nbformat": 4,
 "nbformat_minor": 4
}
