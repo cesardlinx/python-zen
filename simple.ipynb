{
 "cells": [
  {
   "cell_type": "markdown",
   "metadata": {},
   "source": [
    "## Simple is better than complex"
   ]
  },
  {
   "cell_type": "markdown",
   "metadata": {},
   "source": [
    "### Reverse a List"
   ]
  },
  {
   "cell_type": "code",
   "execution_count": 1,
   "metadata": {},
   "outputs": [],
   "source": [
    "my_list = [1, 2, 3, 4, 5, 6]"
   ]
  },
  {
   "cell_type": "code",
   "execution_count": 2,
   "metadata": {},
   "outputs": [
    {
     "name": "stdout",
     "output_type": "stream",
     "text": [
      "[6, 5, 4, 3, 2, 1]\n"
     ]
    }
   ],
   "source": [
    "reversed_list = []\n",
    "\n",
    "for x in range(len(my_list)):\n",
    "    reversed_list.append(my_list[len(my_list)-x-1])\n",
    "    \n",
    "print(reversed_list)"
   ]
  },
  {
   "cell_type": "code",
   "execution_count": 5,
   "metadata": {},
   "outputs": [
    {
     "data": {
      "text/plain": [
       "[6, 5, 4, 3, 2, 1]"
      ]
     },
     "execution_count": 5,
     "metadata": {},
     "output_type": "execute_result"
    }
   ],
   "source": [
    "my_list[::-1]"
   ]
  },
  {
   "cell_type": "markdown",
   "metadata": {},
   "source": [
    "### Parsing known format"
   ]
  },
  {
   "cell_type": "code",
   "execution_count": null,
   "metadata": {},
   "outputs": [],
   "source": [
    "def parse_file(self):\n",
    "        \"\"\"The following lines parse through an sxst\"\"\"\n",
    "        level = 0\n",
    "        cyme_class = ''\n",
    "        cyme_subclass = ''\n",
    "        object_field_values = {}\n",
    "        subobject_field_values = {}\n",
    "        phase = ''\n",
    "\n",
    "        # Variable for forwards and reverse settings in the\n",
    "        # Regulator class\n",
    "        settings = None\n",
    "\n",
    "        for line in self.cyme_file:\n",
    "\n",
    "            tag = line.split('>')[0].strip()[1:]\n",
    "\n",
    "            if tag in dictof_input_cyme_objectpropertties:\n",
    "                level += 1\n",
    "                if level == 1:\n",
    "                    cyme_class = tag\n",
    "                    if cyme_class not in self.cyme_dict:\n",
    "                        self.cyme_dict[cyme_class] = {}\n",
    "                    object_field_values.update(dict.fromkeys(\n",
    "                        dictof_output_cyme_objectpropertties[\n",
    "                            cyme_class], ''))\n",
    "                if level == 2:\n",
    "\n",
    "                    cyme_subclass = tag\n",
    "                    object_name = object_field_values[\n",
    "                        dictof_input_cyme_objectpropertties[\n",
    "                            cyme_class][0]]\n",
    "                    if object_name not in self.cyme_dict[cyme_class]:\n",
    "                        self.cyme_dict[cyme_class][object_name] = {}\n",
    "                    if cyme_subclass not in \\\n",
    "                            self.cyme_dict[cyme_class][object_name]:\n",
    "                        self.cyme_dict[\n",
    "                            cyme_class][object_name][cyme_subclass] = {}\n",
    "                    subobject_field_values.update(dict.fromkeys(\n",
    "                        dictof_output_cyme_objectpropertties[\n",
    "                            cyme_subclass], ''))\n",
    "            elif level == 1 and tag in \\\n",
    "                    dictof_input_cyme_objectpropertties[cyme_class]:\n",
    "\n",
    "                val = self.get_tag_value(line)[1]\n",
    "\n",
    "                # In cyme, PositionOfConductorX is a\n",
    "                # subclass of OverheadSpacingOfConductorDB class.\n",
    "\n",
    "                if cyme_class == 'OverheadSpacingOfConductorDB' \\\n",
    "                        and tag.startswith('PositionOfConductor'):\n",
    "                    position_of_conductor = tag\n",
    "                elif cyme_class == 'OverheadSpacingOfConductorDB' \\\n",
    "                        and tag in ['X', 'Y']:\n",
    "                    object_field_values[position_of_conductor + '_' + tag] = \\\n",
    "                        val\n",
    "                else:\n",
    "                    object_field_values[tag] = val\n",
    "            elif level == 2 and tag in \\\n",
    "                    dictof_input_cyme_objectpropertties[cyme_subclass]:\n",
    "\n",
    "                val = self.get_tag_value(line)[1]\n",
    "\n",
    "                # In cyme multiple load models are given\n",
    "                # for SpotLoad and DistributedLoad sub-objects. Load values are\n",
    "                # only read for LodeModelID = 1.\n",
    "                if cyme_subclass in ['SpotLoad', 'DistributedLoad'] \\\n",
    "                        and tag == 'LoadModelID':\n",
    "\n",
    "                    if val == '1':\n",
    "                        flag_read_load_value = True\n",
    "                        subobject_field_values[tag] = val\n",
    "                    else:\n",
    "                        flag_read_load_value = False\n",
    "\n",
    "                # LoadValueType property is only recorded for LoadModelID = 1.\n",
    "                elif cyme_subclass in ['SpotLoad', 'DistributedLoad'] \\\n",
    "                        and tag == 'LoadValueType' and flag_read_load_value:\n",
    "                    subobject_field_values[tag] = val\n",
    "                # SpotLoad and DistributedLoad KVA, KW, KVAR, and PF\n",
    "                # can be specified by phase or three phase.\n",
    "                # These properties are only recorded for LoadModelID = 1.\n",
    "                elif cyme_subclass in ['SpotLoad', 'DistributedLoad'] \\\n",
    "                        and tag == 'Phase' and flag_read_load_value:\n",
    "                    phase = val\n",
    "                elif cyme_subclass in ['SpotLoad', 'DistributedLoad'] \\\n",
    "                        and (tag in ['KVA', 'KW', 'KVAR', 'PF']) \\\n",
    "                        and len(phase) == 1 and flag_read_load_value:\n",
    "                    subobject_field_values[tag + phase] = val\n",
    "                elif cyme_subclass in ['SpotLoad', 'DistributedLoad'] \\\n",
    "                        and (tag in ['KVA', 'KW', 'KVAR', 'PF']) \\\n",
    "                        and len(phase) == 3 and flag_read_load_value:\n",
    "                    if tag == 'PF':\n",
    "                        subobject_field_values[tag + 'A'] = val\n",
    "                        subobject_field_values[tag + 'B'] = val\n",
    "                        subobject_field_values[tag + 'C'] = val\n",
    "                    else:\n",
    "                        subobject_field_values[tag + 'A'] = str(float(val)/3)\n",
    "                        subobject_field_values[tag + 'B'] = str(float(val)/3)\n",
    "                        subobject_field_values[tag + 'C'] = str(float(val)/3)\n",
    "\n",
    "                # Load value properties for LoadModelIDs\n",
    "                # different from 1 are ignored.\n",
    "\n",
    "                elif cyme_subclass in ['SpotLoad', 'DistributedLoad'] \\\n",
    "                    and (tag in ['LoadValueType', 'Phase',\n",
    "                                 'KVA', 'KW', 'KVAR', 'PF']) and not \\\n",
    "                        flag_read_load_value:\n",
    "                    continue\n",
    "\n",
    "                # In cyme, ForwardSettings and\n",
    "                # ReverseSettings are a subclass of Regulator class.\n",
    "\n",
    "                # ========================================================\n",
    "                elif cyme_subclass == 'Regulator' and tag == 'ForwardSettings':\n",
    "                    settings = 'Forward'\n",
    "                elif cyme_subclass == 'Regulator' and tag == 'ReverseSettings':\n",
    "                    settings = 'Reverse'\n",
    "                elif cyme_subclass == \\\n",
    "                    'Regulator' and tag in ['RsetA', 'RsetB', 'RsetC',\n",
    "                                            'XsetA', 'XsetB', 'XsetC',\n",
    "                                            'SetVoltageA', 'SetVoltageB',\n",
    "                                            'SetVoltageC', 'BandwidthA',\n",
    "                                            'BandwidthB', 'BandwidthC']:\n",
    "                    subobject_field_values[settings + tag] = val\n",
    "                # ========================================================\n",
    "                else:\n",
    "                    subobject_field_values[tag] = val\n",
    "            elif tag.startswith('/') and tag[1:] in \\\n",
    "                    dictof_input_cyme_objectpropertties:\n",
    "                if level == 1:\n",
    "                    object_name = object_field_values[\n",
    "                        dictof_input_cyme_objectpropertties[\n",
    "                            cyme_class][0]]\n",
    "                    if object_name in self.cyme_dict[cyme_class]:\n",
    "                        self.cyme_dict[cyme_class][object_name].update(\n",
    "                            object_field_values)\n",
    "                    else:\n",
    "                        self.cyme_dict[cyme_class][object_name] = \\\n",
    "                            object_field_values\n",
    "                    object_field_values = {}\n",
    "                    level += -1\n",
    "                if level == 2:\n",
    "                    object_name = \\\n",
    "                        object_field_values[\n",
    "                            dictof_input_cyme_objectpropertties[\n",
    "                                cyme_class][0]]\n",
    "                    subobject_name = \\\n",
    "                        subobject_field_values[\n",
    "                            dictof_input_cyme_objectpropertties[\n",
    "                                cyme_subclass][0]]\n",
    "                    self.cyme_dict[cyme_class][object_name][\n",
    "                        cyme_subclass][subobject_name] = subobject_field_values\n",
    "                    subobject_field_values = {}\n",
    "                    level += -1\n",
    "\n",
    "        return self.cyme_dict"
   ]
  },
  {
   "cell_type": "code",
   "execution_count": null,
   "metadata": {},
   "outputs": [],
   "source": [
    "import xmltodict\n",
    "\n",
    "cyme_dict = xmltodict.parse(cyme_file)"
   ]
  },
  {
   "cell_type": "code",
   "execution_count": null,
   "metadata": {},
   "outputs": [],
   "source": []
  }
 ],
 "metadata": {
  "kernelspec": {
   "display_name": "Python 3",
   "language": "python",
   "name": "python3"
  },
  "language_info": {
   "codemirror_mode": {
    "name": "ipython",
    "version": 3
   },
   "file_extension": ".py",
   "mimetype": "text/x-python",
   "name": "python",
   "nbconvert_exporter": "python",
   "pygments_lexer": "ipython3",
   "version": "3.7.7"
  }
 },
 "nbformat": 4,
 "nbformat_minor": 4
}
