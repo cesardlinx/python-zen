{
 "cells": [
  {
   "cell_type": "markdown",
   "metadata": {},
   "source": [
    "## Complex is better than complicated."
   ]
  },
  {
   "cell_type": "code",
   "execution_count": 4,
   "metadata": {},
   "outputs": [],
   "source": [
    "line = 'object  overhead_line_conductor {'"
   ]
  },
  {
   "cell_type": "markdown",
   "metadata": {},
   "source": [
    "Bad"
   ]
  },
  {
   "cell_type": "code",
   "execution_count": 5,
   "metadata": {},
   "outputs": [
    {
     "name": "stdout",
     "output_type": "stream",
     "text": [
      "\n"
     ]
    }
   ],
   "source": [
    "level = 0\n",
    "if \"{\" in line:\n",
    "    level += 1\n",
    "    if 'object' in line:\n",
    "        if level == 1:\n",
    "            # GETS THE CLASS\n",
    "            theobjectname = \"\"\n",
    "            theclass = \"\"\n",
    "            theclass = line.split(\" \")[1]\n",
    "            print(theclass)"
   ]
  },
  {
   "cell_type": "markdown",
   "metadata": {},
   "source": [
    "Good"
   ]
  },
  {
   "cell_type": "code",
   "execution_count": 6,
   "metadata": {},
   "outputs": [
    {
     "name": "stdout",
     "output_type": "stream",
     "text": [
      "overhead_line_conductor\n"
     ]
    }
   ],
   "source": [
    "import re\n",
    "\n",
    "match = re.search('object\\s+(\\w+)\\s+{', line)\n",
    "pg_class = match.groups(1)[0]\n",
    "print(pg_class)"
   ]
  }
 ],
 "metadata": {
  "kernelspec": {
   "display_name": "Python 3",
   "language": "python",
   "name": "python3"
  },
  "language_info": {
   "codemirror_mode": {
    "name": "ipython",
    "version": 3
   },
   "file_extension": ".py",
   "mimetype": "text/x-python",
   "name": "python",
   "nbconvert_exporter": "python",
   "pygments_lexer": "ipython3",
   "version": "3.7.7"
  }
 },
 "nbformat": 4,
 "nbformat_minor": 4
}
